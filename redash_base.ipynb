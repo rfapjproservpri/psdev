{
 "cells": [
  {
   "cell_type": "code",
   "execution_count": 2,
   "id": "53aefa04-a65c-4858-84a2-3bf4af01f4e4",
   "metadata": {},
   "outputs": [
    {
     "data": {
      "text/plain": [
       "[{'name': 'activity',\n",
       "  'pause_reason': None,\n",
       "  'syntax': 'sql',\n",
       "  'paused': 0,\n",
       "  'view_only': False,\n",
       "  'type': 'redshift',\n",
       "  'id': 1},\n",
       " {'name': 'pagerduty',\n",
       "  'pause_reason': None,\n",
       "  'syntax': 'sql',\n",
       "  'paused': 0,\n",
       "  'view_only': False,\n",
       "  'type': 'pg',\n",
       "  'id': 16},\n",
       " {'name': 'Query Results',\n",
       "  'pause_reason': None,\n",
       "  'syntax': 'sql',\n",
       "  'paused': 0,\n",
       "  'view_only': False,\n",
       "  'type': 'results',\n",
       "  'id': 13},\n",
       " {'name': 'Tracking',\n",
       "  'pause_reason': None,\n",
       "  'syntax': 'json',\n",
       "  'paused': 0,\n",
       "  'view_only': False,\n",
       "  'type': 'elasticsearch',\n",
       "  'id': 17}]"
      ]
     },
     "execution_count": 2,
     "metadata": {},
     "output_type": "execute_result"
    }
   ],
   "source": [
    "from redashAPI import RedashAPIClient\n",
    "Redash = RedashAPIClient(\"7qZkVtmkf3Dcu5B6BFZjSoMzci7XNTGXTDIXXKvM\", \"https://redash.recfut.com\")\n",
    "# List all Data Sources\n",
    "res = Redash.get('data_sources')\n",
    "res.json()\n"
   ]
  },
  {
   "cell_type": "code",
   "execution_count": null,
   "id": "89fa51d1-f263-4ecb-820b-59a55dd8f3be",
   "metadata": {},
   "outputs": [],
   "source": []
  }
 ],
 "metadata": {
  "kernelspec": {
   "display_name": "Python 3 (ipykernel)",
   "language": "python",
   "name": "python3"
  },
  "language_info": {
   "codemirror_mode": {
    "name": "ipython",
    "version": 3
   },
   "file_extension": ".py",
   "mimetype": "text/x-python",
   "name": "python",
   "nbconvert_exporter": "python",
   "pygments_lexer": "ipython3",
   "version": "3.9.7"
  }
 },
 "nbformat": 4,
 "nbformat_minor": 5
}
